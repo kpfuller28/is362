{
 "cells": [
  {
   "cell_type": "markdown",
   "id": "05fb5b45",
   "metadata": {},
   "source": [
    "# 1. Using `zip()` in Python for Real-World Data Tasks\n",
    "\n",
    "The goal of this notebook is to explore Python's built-in `zip()` function, with a focus on practical, real-world usage rather than just its mechanics.  \n",
    "\n",
    "I understand how `zip()` works on a basic level. It pairs elements from multiple iterables together, but I want to make sure I understand the practical applications and see how it can help solve common data problems.  \n",
    "\n",
    "This notebook will introduce `zip()`, demonstrate a realistic scenario where it is helpful, and highlight key takeaways for when and why to use it.\n"
   ]
  },
  {
   "cell_type": "markdown",
   "id": "e42673eb",
   "metadata": {},
   "source": [
    "## 2. Introduction to `zip()`\n",
    "\n",
    "The `zip()` function in Python takes two or more iterables (like lists, tuples, or strings) and combines them into an iterator of tuples. Each tuple contains one element from each iterable, matched by position.\n",
    "\n",
    "For example, if we have two lists, one with student names and another with their test scores, we can use `zip()` to combine them into pairs:\n",
    "\n",
    "Ex.\n",
    "\n",
    "  > Students: Alice, Bob, Charlie\n",
    "\n",
    "  > Scores: 85, 92, 78\n",
    "\n",
    "Expected Output: \n",
    "\n",
    "  ```[('Alice', 85), ('Bob', 92), ('Charlie', 78)]```\n"
   ]
  },
  {
   "cell_type": "code",
   "execution_count": null,
   "id": "99335def",
   "metadata": {},
   "outputs": [
    {
     "name": "stdout",
     "output_type": "stream",
     "text": [
      "[('Alice', 85), ('Bob', 92), ('Charlie', 78)]\n"
     ]
    }
   ],
   "source": [
    "students = [\"Alice\", \"Bob\", \"Charlie\"]\n",
    "scores = [85, 92, 78]\n",
    "\n",
    "\n",
    "zipped = zip(students, scores)\n",
    "print(list(zipped))"
   ]
  },
  {
   "cell_type": "markdown",
   "id": "f5a9e23d",
   "metadata": {},
   "source": [
    "  This is a simple example, but it shows the main idea: `zip()` is great for combining related data into a single structure that’s easy to work with."
   ]
  },
  {
   "cell_type": "markdown",
   "id": "698c16cb",
   "metadata": {},
   "source": [
    "## 3. Scenario - Processing Muliple Lists from Webscraping\n",
    "\n",
    "### 3.1 Scenario Setup\n",
    "\n",
    "Imagine you are scraping a Wikipedia page that lists all the Super Bowl champions. From the table, you extract three separate lists:\n",
    "\n",
    "1. **`superbowls`** – the name or number of each Super Bowl  \n",
    "2. **`winning_teams`** – the team that won that game  \n",
    "3. **`winning_scores`** – the final score of the winning team  \n",
    "\n",
    "These lists are parallel and ordered by year, but they come separately rather than as a single table or structured dataset.  \n",
    "\n",
    "This is a common situation when working with raw scraped data or multiple unstructured sources: the information exists, but it isn’t yet in a convenient format for analysis. Here, `zip()` can help us combine these lists into a single, structured representation.\n"
   ]
  },
  {
   "cell_type": "markdown",
   "id": "2141c496",
   "metadata": {},
   "source": [
    "### 3.2 Simulated Scraped Data\n",
    "\n",
    "To illustrate how `zip()` works in this scenario, we’ll create Python lists that simulate the scraped data. "
   ]
  },
  {
   "cell_type": "code",
   "execution_count": null,
   "id": "baadabc9",
   "metadata": {},
   "outputs": [],
   "source": [
    "# List of Super Bowl names\n",
    "superbowls = [\"Super Bowl I\", \"Super Bowl II\", \"Super Bowl III\", \"Super Bowl LIV\", \"Super Bowl LV\"]\n",
    "\n",
    "# List of winning teams\n",
    "winning_teams = [\"Green Bay Packers\", \"Green Bay Packers\", \"New York Jets\", \"Kansas City Chiefs\", \"Tampa Bay Buccaneers\"]\n",
    "\n",
    "# List of winning scores\n",
    "winning_scores = [35, 33, 16, 31, 31]"
   ]
  },
  {
   "cell_type": "markdown",
   "id": "d5b2909c",
   "metadata": {},
   "source": [
    "### 3.3 Using `zip()` to Combine Data\n",
    "\n",
    "Now that we have our separate lists of Super Bowl names, winning teams, and winning scores, we can use `zip()` to combine them into a single iterable of tuples. Each tuple will contain one element from each list, paired by their position in the lists.\n",
    "\n",
    "Expected Output: \n",
    "\n",
    "```[('Super Bowl I', 'Green Bay Packers', 35), ('Super Bowl II', 'Green Bay Packers', 33), ('Super Bowl III', 'New York Jets', 16), ('Super Bowl LIV', 'Kansas City Chiefs', 31), ('Super Bowl LV', 'Tampa Bay Buccaneers', 31)]```"
   ]
  },
  {
   "cell_type": "code",
   "execution_count": 6,
   "id": "e0275ccc",
   "metadata": {},
   "outputs": [
    {
     "data": {
      "text/plain": [
       "[('Super Bowl I', 'Green Bay Packers', 35),\n",
       " ('Super Bowl II', 'Green Bay Packers', 33),\n",
       " ('Super Bowl III', 'New York Jets', 16),\n",
       " ('Super Bowl LIV', 'Kansas City Chiefs', 31),\n",
       " ('Super Bowl LV', 'Tampa Bay Buccaneers', 31)]"
      ]
     },
     "execution_count": 6,
     "metadata": {},
     "output_type": "execute_result"
    }
   ],
   "source": [
    "# Combine the lists using zip\n",
    "superbowl_data = zip(superbowls, winning_teams, winning_scores)\n",
    "\n",
    "# Convert to a list to view the results\n",
    "list(superbowl_data)"
   ]
  },
  {
   "cell_type": "markdown",
   "id": "ace6a605",
   "metadata": {},
   "source": [
    "Using `zip()` like this allows us to work with related data as a single structure instead of juggling three separate lists. This makes it easier to iterate over, analyze, or convert into other formats like dictionaries or DataFrames."
   ]
  },
  {
   "cell_type": "markdown",
   "id": "562904d4",
   "metadata": {},
   "source": [
    "### 3.4 Converting to a `pandas` `DataFrame`\n",
    "\n",
    "After combining our separate lists with `zip()`, a natural next step is to convert the data into specific format. I personally usually default to dictionaries structured in a way that makes sense to me, but since this class uses **pandas** heavily and we recently learned about the **DataFrame**, let's use that. This makes it easier to perform analysis, filtering, or visualizations later on.\n",
    "\n",
    "Expected Output: \n",
    "\n",
    "``` Name               Winner  Score\n",
    "0    Super Bowl I     Green Bay Packers     35\n",
    "1   Super Bowl II     Green Bay Packers     33\n",
    "2  Super Bowl III          New York Jets     16\n",
    "3  Super Bowl LIV    Kansas City Chiefs     31\n",
    "4   Super Bowl LV  Tampa Bay Buccaneers     31"
   ]
  },
  {
   "cell_type": "code",
   "execution_count": 11,
   "id": "b9f1df33",
   "metadata": {},
   "outputs": [
    {
     "data": {
      "text/html": [
       "<div>\n",
       "<style scoped>\n",
       "    .dataframe tbody tr th:only-of-type {\n",
       "        vertical-align: middle;\n",
       "    }\n",
       "\n",
       "    .dataframe tbody tr th {\n",
       "        vertical-align: top;\n",
       "    }\n",
       "\n",
       "    .dataframe thead th {\n",
       "        text-align: right;\n",
       "    }\n",
       "</style>\n",
       "<table border=\"1\" class=\"dataframe\">\n",
       "  <thead>\n",
       "    <tr style=\"text-align: right;\">\n",
       "      <th></th>\n",
       "      <th>Name</th>\n",
       "      <th>Winner</th>\n",
       "      <th>Score</th>\n",
       "    </tr>\n",
       "  </thead>\n",
       "  <tbody>\n",
       "    <tr>\n",
       "      <th>0</th>\n",
       "      <td>Super Bowl I</td>\n",
       "      <td>Green Bay Packers</td>\n",
       "      <td>35</td>\n",
       "    </tr>\n",
       "    <tr>\n",
       "      <th>1</th>\n",
       "      <td>Super Bowl II</td>\n",
       "      <td>Green Bay Packers</td>\n",
       "      <td>33</td>\n",
       "    </tr>\n",
       "    <tr>\n",
       "      <th>2</th>\n",
       "      <td>Super Bowl III</td>\n",
       "      <td>New York Jets</td>\n",
       "      <td>16</td>\n",
       "    </tr>\n",
       "    <tr>\n",
       "      <th>3</th>\n",
       "      <td>Super Bowl LIV</td>\n",
       "      <td>Kansas City Chiefs</td>\n",
       "      <td>31</td>\n",
       "    </tr>\n",
       "    <tr>\n",
       "      <th>4</th>\n",
       "      <td>Super Bowl LV</td>\n",
       "      <td>Tampa Bay Buccaneers</td>\n",
       "      <td>31</td>\n",
       "    </tr>\n",
       "  </tbody>\n",
       "</table>\n",
       "</div>"
      ],
      "text/plain": [
       "             Name                Winner  Score\n",
       "0    Super Bowl I     Green Bay Packers     35\n",
       "1   Super Bowl II     Green Bay Packers     33\n",
       "2  Super Bowl III         New York Jets     16\n",
       "3  Super Bowl LIV    Kansas City Chiefs     31\n",
       "4   Super Bowl LV  Tampa Bay Buccaneers     31"
      ]
     },
     "execution_count": 11,
     "metadata": {},
     "output_type": "execute_result"
    }
   ],
   "source": [
    "import pandas as pd\n",
    "\n",
    "# Re-create the zipped data (since zip objects are exhausted after conversion)\n",
    "superbowl_data = zip(superbowls, winning_teams, winning_scores)\n",
    "\n",
    "# Create a DataFrame with clear column names\n",
    "df = pd.DataFrame(superbowl_data, columns=[\"Name\", \"Winner\", \"Score\"])\n",
    "\n",
    "# Display the DataFrame\n",
    "df"
   ]
  },
  {
   "cell_type": "markdown",
   "id": "55050f51",
   "metadata": {},
   "source": [
    "Using a DataFrame like this allows us to reference columns by name `(df[\"Winner\"], df[\"Score\"])`, perform calculations, and take full advantage of pandas’ powerful functionality. This is often more practical than keeping data in separate lists or simple dictionaries when working with larger datasets."
   ]
  },
  {
   "cell_type": "markdown",
   "id": "7085786f",
   "metadata": {},
   "source": [
    "### 3.5 Analysis and Summary\n",
    "\n",
    "With our Super Bowl data in a `pandas` `DataFrame`, we can perform a variety of simple analyses. For example, we can find the highest winning score, calculate the average score, or filter games based on a condition.\n",
    "\n",
    "Expected Output: \n",
    "\n",
    "Highest Score: Super Bowl I, 35\n",
    "\n",
    "Average Winning Score: 29.2\n",
    "\n",
    "Highest Scoring Winners (above 30): Super Bowls I, II, LIV, LV"
   ]
  },
  {
   "cell_type": "code",
   "execution_count": 14,
   "id": "8ebadeaf",
   "metadata": {},
   "outputs": [
    {
     "name": "stdout",
     "output_type": "stream",
     "text": [
      "Super Bowl(s) with the highest score:\n",
      "           Name             Winner  Score\n",
      "0  Super Bowl I  Green Bay Packers     35\n",
      "\n",
      "Average winning score: 29.20\n",
      "\n",
      "Super Bowls with winning score above 30:\n",
      "             Name                Winner  Score\n",
      "0    Super Bowl I     Green Bay Packers     35\n",
      "1   Super Bowl II     Green Bay Packers     33\n",
      "3  Super Bowl LIV    Kansas City Chiefs     31\n",
      "4   Super Bowl LV  Tampa Bay Buccaneers     31\n"
     ]
    }
   ],
   "source": [
    "# Find the Super Bowl with the highest winning score\n",
    "max_score = df[\"Score\"].max()\n",
    "highest_game = df[df[\"Score\"] == max_score]\n",
    "print(\"Super Bowl(s) with the highest score:\")\n",
    "print(highest_game)\n",
    "\n",
    "# Calculate the average winning score\n",
    "average_score = df[\"Score\"].mean()\n",
    "print(f\"\\nAverage winning score: {average_score:.2f}\")\n",
    "\n",
    "# Filter games where the winning score was over 30\n",
    "high_scoring_games = df[df[\"Score\"] > 30]\n",
    "print(\"\\nSuper Bowls with winning score above 30:\")\n",
    "print(high_scoring_games)"
   ]
  },
  {
   "cell_type": "markdown",
   "id": "53c6580a",
   "metadata": {},
   "source": [
    "**Explanation:**\n",
    "\n",
    "Using `df[\"Score\"].max()` helps us quickly identify the highest scoring game.\n",
    "\n",
    "`df[\"Score\"].mean()` calculates the average winning score across all games.\n",
    "\n",
    "Boolean indexing (`df[df[\"Score\"] > 30]`) lets us filter the DataFrame for games that meet certain conditions.\n",
    "\n",
    "By converting our zipped lists into a `DataFrame`, we can leverage `pandas`’ built-in methods to analyze the data efficiently, without manually iterating through separate lists."
   ]
  },
  {
   "cell_type": "markdown",
   "id": "65c3f5ec",
   "metadata": {},
   "source": [
    "### 3.6 Handling Mismatched Lists\n",
    "\n",
    "In real-world scenarios, the lists you want to combine with `zip()` may not always be the same length. For example, if we include upcoming Super Bowls in our `superbowls` list, there may not yet be corresponding `winning_teams` or `winning_scores`.\n",
    "\n",
    "By default, `zip()` stops at the shortest list, which prevents errors but also means that extra items in longer lists are ignored\n",
    "\n",
    "Expected Output:\n",
    "\n",
    "`[('Super Bowl I', 'Green Bay Packers', 35), ('Super Bowl II', 'Green Bay Packers', 33), ('Super Bowl III', 'New York Jets', 16), ('Super Bowl LIV', 'Kansas City Chiefs', 31), ('Super Bowl LV', 'Tampa Bay Buccaneers', 31)]`\n"
   ]
  },
  {
   "cell_type": "code",
   "execution_count": 16,
   "id": "5114dcdb",
   "metadata": {},
   "outputs": [
    {
     "name": "stdout",
     "output_type": "stream",
     "text": [
      "[('Super Bowl I', 'Green Bay Packers', 35), ('Super Bowl II', 'Green Bay Packers', 33), ('Super Bowl III', 'New York Jets', 16), ('Super Bowl LIV', 'Kansas City Chiefs', 31), ('Super Bowl LV', 'Tampa Bay Buccaneers', 31)]\n"
     ]
    }
   ],
   "source": [
    "# Example with a longer list of Super Bowls\n",
    "superbowls = [\"Super Bowl I\", \"Super Bowl II\", \"Super Bowl III\", \"Super Bowl LIV\", \"Super Bowl LV\", \"Super Bowl LVI\"]\n",
    "\n",
    "\n",
    "# Zip stops at the shortest list\n",
    "zipped_data = zip(superbowls, winning_teams, winning_scores)\n",
    "print(list(zipped_data))"
   ]
  },
  {
   "cell_type": "markdown",
   "id": "6a22d72c",
   "metadata": {},
   "source": [
    "Notice that `Super Bowl LVI` is not included because there is no corresponding team or score yet.\n",
    "\n",
    "If we want to include all items and fill missing values, we can use `itertools.zip_longest()`. \n",
    "\n",
    "Expected Output: \n",
    "\n",
    "Same list as above, but with the added tuple `('Super Bowl LVI', 'TBD', 'TBD')`"
   ]
  },
  {
   "cell_type": "code",
   "execution_count": 17,
   "id": "727d5066",
   "metadata": {},
   "outputs": [
    {
     "name": "stdout",
     "output_type": "stream",
     "text": [
      "[('Super Bowl I', 'Green Bay Packers', 35), ('Super Bowl II', 'Green Bay Packers', 33), ('Super Bowl III', 'New York Jets', 16), ('Super Bowl LIV', 'Kansas City Chiefs', 31), ('Super Bowl LV', 'Tampa Bay Buccaneers', 31), ('Super Bowl LVI', 'TBD', 'TBD')]\n"
     ]
    }
   ],
   "source": [
    "from itertools import zip_longest\n",
    "\n",
    "zipped_longest = zip_longest(superbowls, winning_teams, winning_scores, fillvalue=\"TBD\")\n",
    "print(list(zipped_longest))"
   ]
  },
  {
   "cell_type": "markdown",
   "id": "c86853cb",
   "metadata": {},
   "source": [
    "Using `zip_longest()` allows us to preserve the extra items in longer lists while filling in placeholders for missing data, which can be useful for preparing incomplete datasets for analysis."
   ]
  },
  {
   "cell_type": "markdown",
   "id": "c596170e",
   "metadata": {},
   "source": [
    "## 4. Key Takeaways\n",
    "\n",
    "In this example, we saw how `zip()` can combine multiple parallel lists, in this case, Super Bowl names, winning teams, and scores, into a single structured format. This is particularly useful when working with raw or scraped data that isn’t already in a table or DataFrame.\n",
    "\n",
    "By converting the zipped data into a pandas DataFrame, we were able to:\n",
    "\n",
    "- Iterate over combined data efficiently  \n",
    "- Perform analyses like finding the highest score, calculating averages, and filtering based on conditions  \n",
    "- Maintain a clear and organized structure for further processing  \n",
    "\n",
    "We also explored how to handle mismatched list lengths using `zip()` and `itertools.zip_longest()`, which ensures that extra items aren’t lost and allows for placeholders in incomplete datasets.\n",
    "\n",
    "Overall, `zip()` is a simple but powerful tool for aligning multiple sequences and preparing data for analysis in Python, especially in scenarios where the data comes from separate, unstructured sources.\n"
   ]
  }
 ],
 "metadata": {
  "kernelspec": {
   "display_name": "Python 3",
   "language": "python",
   "name": "python3"
  },
  "language_info": {
   "codemirror_mode": {
    "name": "ipython",
    "version": 3
   },
   "file_extension": ".py",
   "mimetype": "text/x-python",
   "name": "python",
   "nbconvert_exporter": "python",
   "pygments_lexer": "ipython3",
   "version": "3.12.3"
  }
 },
 "nbformat": 4,
 "nbformat_minor": 5
}
