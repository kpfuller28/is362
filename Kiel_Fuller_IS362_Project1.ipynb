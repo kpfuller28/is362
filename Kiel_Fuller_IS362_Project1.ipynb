{
 "cells": [
  {
   "cell_type": "markdown",
   "id": "a8ae7c9d",
   "metadata": {},
   "source": [
    "# Flight Arrival Delays: ALASKA vs. AM WEST\n",
    "\n",
    "This project analyzes arrival delay data for two airlines, ALASKA and AM WEST, across five major destinations: Los Angeles, Phoenix, San Diego, San Francisco, and Seattle. The goal is to structure the raw data into a format suitable for analysis, import it into pandas, and compare delay patterns between the two airlines. By calculating totals, delay rates, and other basic metrics, we aim to identify which airline experiences more delays overall and whether certain destinations see higher delay frequencies. The findings will help illustrate how simple data management and analysis techniques in Python can reveal meaningful insights from real-world data.\n",
    "\n",
    "\n",
    "| Airline   | Status    | Los Angeles | Phoenix | San Diego | San Francisco | Seattle |\n",
    "|-----------|-----------|-------------|---------|-----------|---------------|---------|\n",
    "| ALASKA    | on time   | 497         | 221     | 212       | 503           | 1841    |\n",
    "| ALASKA    | delayed   | 62          | 12      | 20        | 102           | 605     |\n",
    "| AM WEST   | on time   | 694         | 4840    | 383       | 320           | 201     |\n",
    "| AM WEST   | delayed   | 117         | 415     | 65        | 129           | 61      |\n",
    "\n"
   ]
  },
  {
   "cell_type": "markdown",
   "id": "10f5951d",
   "metadata": {},
   "source": [
    "## 1. Data Summary\n",
    "\n",
    "First, we will examine the arrival delay data to get a sense of the overall patterns. \n",
    "This includes looking at total flights, the number of on-time vs. delayed flights, \n",
    "and the general performance of each airline across the five destinations.\n"
   ]
  },
  {
   "cell_type": "code",
   "execution_count": 97,
   "id": "b32fe84d",
   "metadata": {},
   "outputs": [
    {
     "data": {
      "text/html": [
       "<div>\n",
       "<style scoped>\n",
       "    .dataframe tbody tr th:only-of-type {\n",
       "        vertical-align: middle;\n",
       "    }\n",
       "\n",
       "    .dataframe tbody tr th {\n",
       "        vertical-align: top;\n",
       "    }\n",
       "\n",
       "    .dataframe thead th {\n",
       "        text-align: right;\n",
       "    }\n",
       "</style>\n",
       "<table border=\"1\" class=\"dataframe\">\n",
       "  <thead>\n",
       "    <tr style=\"text-align: right;\">\n",
       "      <th></th>\n",
       "      <th>Airline</th>\n",
       "      <th>Status</th>\n",
       "      <th>Los Angeles</th>\n",
       "      <th>Phoenix</th>\n",
       "      <th>San Diego</th>\n",
       "      <th>San Francisco</th>\n",
       "      <th>Seattle</th>\n",
       "    </tr>\n",
       "  </thead>\n",
       "  <tbody>\n",
       "    <tr>\n",
       "      <th>0</th>\n",
       "      <td>ALASKA</td>\n",
       "      <td>on time</td>\n",
       "      <td>497</td>\n",
       "      <td>221</td>\n",
       "      <td>212</td>\n",
       "      <td>503</td>\n",
       "      <td>1841</td>\n",
       "    </tr>\n",
       "    <tr>\n",
       "      <th>1</th>\n",
       "      <td>ALASKA</td>\n",
       "      <td>delayed</td>\n",
       "      <td>62</td>\n",
       "      <td>12</td>\n",
       "      <td>20</td>\n",
       "      <td>102</td>\n",
       "      <td>605</td>\n",
       "    </tr>\n",
       "    <tr>\n",
       "      <th>2</th>\n",
       "      <td>AM WEST</td>\n",
       "      <td>on time</td>\n",
       "      <td>694</td>\n",
       "      <td>4840</td>\n",
       "      <td>383</td>\n",
       "      <td>320</td>\n",
       "      <td>201</td>\n",
       "    </tr>\n",
       "    <tr>\n",
       "      <th>3</th>\n",
       "      <td>AM WEST</td>\n",
       "      <td>delayed</td>\n",
       "      <td>117</td>\n",
       "      <td>415</td>\n",
       "      <td>65</td>\n",
       "      <td>129</td>\n",
       "      <td>61</td>\n",
       "    </tr>\n",
       "  </tbody>\n",
       "</table>\n",
       "</div>"
      ],
      "text/plain": [
       "   Airline   Status  Los Angeles  Phoenix  San Diego  San Francisco  Seattle\n",
       "0   ALASKA  on time          497      221        212            503     1841\n",
       "1   ALASKA  delayed           62       12         20            102      605\n",
       "2  AM WEST  on time          694     4840        383            320      201\n",
       "3  AM WEST  delayed          117      415         65            129       61"
      ]
     },
     "execution_count": 97,
     "metadata": {},
     "output_type": "execute_result"
    }
   ],
   "source": [
    "import pandas as pd\n",
    "\n",
    "df = pd.read_csv(\"is362_project1.csv\")\n",
    "df"
   ]
  },
  {
   "cell_type": "code",
   "execution_count": 98,
   "id": "250ea5eb",
   "metadata": {},
   "outputs": [
    {
     "data": {
      "text/html": [
       "<div>\n",
       "<style scoped>\n",
       "    .dataframe tbody tr th:only-of-type {\n",
       "        vertical-align: middle;\n",
       "    }\n",
       "\n",
       "    .dataframe tbody tr th {\n",
       "        vertical-align: top;\n",
       "    }\n",
       "\n",
       "    .dataframe thead th {\n",
       "        text-align: right;\n",
       "    }\n",
       "</style>\n",
       "<table border=\"1\" class=\"dataframe\">\n",
       "  <thead>\n",
       "    <tr style=\"text-align: right;\">\n",
       "      <th></th>\n",
       "      <th>Airline</th>\n",
       "      <th>Status</th>\n",
       "      <th>Total</th>\n",
       "    </tr>\n",
       "  </thead>\n",
       "  <tbody>\n",
       "    <tr>\n",
       "      <th>0</th>\n",
       "      <td>ALASKA</td>\n",
       "      <td>on time</td>\n",
       "      <td>3274</td>\n",
       "    </tr>\n",
       "    <tr>\n",
       "      <th>1</th>\n",
       "      <td>ALASKA</td>\n",
       "      <td>delayed</td>\n",
       "      <td>801</td>\n",
       "    </tr>\n",
       "    <tr>\n",
       "      <th>2</th>\n",
       "      <td>AM WEST</td>\n",
       "      <td>on time</td>\n",
       "      <td>6438</td>\n",
       "    </tr>\n",
       "    <tr>\n",
       "      <th>3</th>\n",
       "      <td>AM WEST</td>\n",
       "      <td>delayed</td>\n",
       "      <td>787</td>\n",
       "    </tr>\n",
       "  </tbody>\n",
       "</table>\n",
       "</div>"
      ],
      "text/plain": [
       "   Airline   Status  Total\n",
       "0   ALASKA  on time   3274\n",
       "1   ALASKA  delayed    801\n",
       "2  AM WEST  on time   6438\n",
       "3  AM WEST  delayed    787"
      ]
     },
     "execution_count": 98,
     "metadata": {},
     "output_type": "execute_result"
    }
   ],
   "source": [
    "# Total flights per airline/status across all destinations\n",
    "df_total = df.copy()\n",
    "df_total['Total'] = df_total.iloc[:, 2:].sum(axis=1)\n",
    "df_total[['Airline', 'Status', 'Total']]\n",
    "\n"
   ]
  },
  {
   "cell_type": "markdown",
   "id": "84375b1c",
   "metadata": {},
   "source": [
    "Here we sum across all destinations to see the total number of on-time and delayed flights for each airline. \n",
    "This helps us compare the airlines at a glance.\n"
   ]
  },
  {
   "cell_type": "code",
   "execution_count": 99,
   "id": "2441ae62",
   "metadata": {},
   "outputs": [
    {
     "data": {
      "text/plain": [
       "Airline\n",
       "ALASKA     19.66\n",
       "AM WEST    10.89\n",
       "Name: Total, dtype: float64"
      ]
     },
     "execution_count": 99,
     "metadata": {},
     "output_type": "execute_result"
    }
   ],
   "source": [
    "#Calculate totals by airline\n",
    "airline_totals = df_total.groupby('Airline')['Total'].sum()\n",
    "\n",
    "#Calculate delayed by airline\n",
    "delayed_totals = df_total[df_total['Status'] == 'delayed'].groupby('Airline')['Total'].sum()\n",
    "\n",
    "#Calculate the percentage\n",
    "percent_delayed = (delayed_totals / airline_totals * 100).round(2)\n",
    "percent_delayed"
   ]
  },
  {
   "cell_type": "markdown",
   "id": "3cb423c1",
   "metadata": {},
   "source": [
    "We calculate the percentage of flights that were delayed for each airline by dividing the number of \n",
    "delayed flights by the total flights and multiplying by 100. This gives us a clear measure of performance. We can see that overall, AM West is on time more than Alaska.\n"
   ]
  },
  {
   "cell_type": "code",
   "execution_count": 100,
   "id": "1fafed4f",
   "metadata": {},
   "outputs": [
    {
     "data": {
      "text/plain": [
       "(San Diego         85\n",
       " Los Angeles      179\n",
       " San Francisco    231\n",
       " Phoenix          427\n",
       " Seattle          666\n",
       " dtype: int64,\n",
       " San Diego         680\n",
       " San Francisco    1054\n",
       " Los Angeles      1370\n",
       " Seattle          2708\n",
       " Phoenix          5488\n",
       " dtype: int64)"
      ]
     },
     "execution_count": 100,
     "metadata": {},
     "output_type": "execute_result"
    }
   ],
   "source": [
    "#Calculate total of delayed flights by location\n",
    "delays_by_dest = df[df['Status'] == 'delayed'].iloc[:, 2:].sum().sort_values()\n",
    "total_by_dest = df.iloc[:, 2:].sum().sort_values()\n",
    "\n",
    "delays_by_dest, total_by_dest\n"
   ]
  },
  {
   "cell_type": "markdown",
   "id": "bcb5d895",
   "metadata": {},
   "source": [
    "Here we sum the delayed flights for each destination across both airlines. \n",
    "This allows us to see which destinations have the most delays. We also find the total flights by destination.\n"
   ]
  },
  {
   "cell_type": "code",
   "execution_count": 101,
   "id": "8b9e3512",
   "metadata": {},
   "outputs": [
    {
     "data": {
      "text/plain": [
       "Phoenix           7.78\n",
       "San Diego        12.50\n",
       "Los Angeles      13.07\n",
       "San Francisco    21.92\n",
       "Seattle          24.59\n",
       "dtype: float64"
      ]
     },
     "execution_count": 101,
     "metadata": {},
     "output_type": "execute_result"
    }
   ],
   "source": [
    "\n",
    "percent_delayed_dest = (delays_by_dest / total_by_dest * 100).round(2).sort_values()\n",
    "percent_delayed_dest"
   ]
  },
  {
   "cell_type": "markdown",
   "id": "24bc8cbf",
   "metadata": {},
   "source": [
    "Here we calculate the percentage of delayed flights at each destination by dividing the delayed flights \n",
    "by the total flights at that destination. This helps identify which airports have the highest delay rates. It's useful to compare this to the count of delayed flights, as high volume airports might show an alarming number of delayed flights while having a lower percentage. For instance, we can see that Pheonix has one of the highest counts for delayed flights, but this seems to be due to high overall traffic, as it's percentage of delayed flights is the lowest. \n"
   ]
  },
  {
   "cell_type": "code",
   "execution_count": 102,
   "id": "aa03602c",
   "metadata": {},
   "outputs": [
    {
     "data": {
      "text/html": [
       "<div>\n",
       "<style scoped>\n",
       "    .dataframe tbody tr th:only-of-type {\n",
       "        vertical-align: middle;\n",
       "    }\n",
       "\n",
       "    .dataframe tbody tr th {\n",
       "        vertical-align: top;\n",
       "    }\n",
       "\n",
       "    .dataframe thead th {\n",
       "        text-align: right;\n",
       "    }\n",
       "</style>\n",
       "<table border=\"1\" class=\"dataframe\">\n",
       "  <thead>\n",
       "    <tr style=\"text-align: right;\">\n",
       "      <th></th>\n",
       "      <th>Airline</th>\n",
       "      <th>Status</th>\n",
       "      <th>Los Angeles</th>\n",
       "      <th>Phoenix</th>\n",
       "      <th>San Diego</th>\n",
       "      <th>San Francisco</th>\n",
       "      <th>Seattle</th>\n",
       "    </tr>\n",
       "  </thead>\n",
       "  <tbody>\n",
       "    <tr>\n",
       "      <th>0</th>\n",
       "      <td>ALASKA</td>\n",
       "      <td>on time</td>\n",
       "      <td>88.91</td>\n",
       "      <td>94.85</td>\n",
       "      <td>91.38</td>\n",
       "      <td>83.14</td>\n",
       "      <td>75.27</td>\n",
       "    </tr>\n",
       "    <tr>\n",
       "      <th>1</th>\n",
       "      <td>ALASKA</td>\n",
       "      <td>delayed</td>\n",
       "      <td>11.09</td>\n",
       "      <td>5.15</td>\n",
       "      <td>8.62</td>\n",
       "      <td>16.86</td>\n",
       "      <td>24.73</td>\n",
       "    </tr>\n",
       "    <tr>\n",
       "      <th>2</th>\n",
       "      <td>AM WEST</td>\n",
       "      <td>on time</td>\n",
       "      <td>85.57</td>\n",
       "      <td>92.10</td>\n",
       "      <td>85.49</td>\n",
       "      <td>71.27</td>\n",
       "      <td>76.72</td>\n",
       "    </tr>\n",
       "    <tr>\n",
       "      <th>3</th>\n",
       "      <td>AM WEST</td>\n",
       "      <td>delayed</td>\n",
       "      <td>14.43</td>\n",
       "      <td>7.90</td>\n",
       "      <td>14.51</td>\n",
       "      <td>28.73</td>\n",
       "      <td>23.28</td>\n",
       "    </tr>\n",
       "  </tbody>\n",
       "</table>\n",
       "</div>"
      ],
      "text/plain": [
       "   Airline   Status  Los Angeles  Phoenix  San Diego  San Francisco  Seattle\n",
       "0   ALASKA  on time        88.91    94.85      91.38          83.14    75.27\n",
       "1   ALASKA  delayed        11.09     5.15       8.62          16.86    24.73\n",
       "2  AM WEST  on time        85.57    92.10      85.49          71.27    76.72\n",
       "3  AM WEST  delayed        14.43     7.90      14.51          28.73    23.28"
      ]
     },
     "execution_count": 102,
     "metadata": {},
     "output_type": "execute_result"
    }
   ],
   "source": [
    "\n",
    "numeric_cols = df.columns[2:]\n",
    "airline_totals = df.groupby('Airline')[numeric_cols].transform('sum')\n",
    "\n",
    "\n",
    "# divide each cell by its airline total\n",
    "percent_df = df.copy()\n",
    "percent_df[numeric_cols] = df[numeric_cols] / airline_totals * 100\n",
    "\n",
    "percent_df[numeric_cols] = percent_df[numeric_cols].round(2)\n",
    "\n",
    "percent_df"
   ]
  },
  {
   "cell_type": "markdown",
   "id": "5c89a73e",
   "metadata": {},
   "source": [
    "\n",
    "Here, we look at the percentage of total flights at each destination. This shows which airline runs on time more often and where delays are more common. This makes it easy to compare relative performance across airlines and destinations. For example, you can see that both airlines run relatively on time at Phoenix, while Alaska signigicantly out performs AM West in San Francisco. \n"
   ]
  },
  {
   "cell_type": "markdown",
   "id": "30279e6a",
   "metadata": {},
   "source": [
    "## Conclusion\n",
    "\n",
    "We can determine a couple things from viewing the data as above. Overall, Alaska is more likely to be delayed as opposed to AM West. Despite having one of the largest amounts of delayed flights, Phoenix actually has the best on-time percentage. We can also see that while Alaska is more consistently on time to San Francisco, in general the destination makes a lot more of a difference in whether a flight is delayed rather than airline. "
   ]
  }
 ],
 "metadata": {
  "kernelspec": {
   "display_name": "Python 3",
   "language": "python",
   "name": "python3"
  },
  "language_info": {
   "codemirror_mode": {
    "name": "ipython",
    "version": 3
   },
   "file_extension": ".py",
   "mimetype": "text/x-python",
   "name": "python",
   "nbconvert_exporter": "python",
   "pygments_lexer": "ipython3",
   "version": "3.12.3"
  }
 },
 "nbformat": 4,
 "nbformat_minor": 5
}
