{
 "cells": [
  {
   "cell_type": "markdown",
   "id": "96e358ae",
   "metadata": {},
   "source": [
    "# Bicycle Odometer — Cumulative & Daily Miles\n",
    "\n",
    "## Overview\n",
    "After riding your bike from New York City to Key West, you kept track of the odometer reading at the end of each day. These readings show the total miles traveled so far on the trip. Using this information, the goal is to organize the data into a clear format, calculate how many miles were ridden each day, and present both the cumulative totals and daily distances in a way that’s easy to read and understand.\n",
    "\n",
    "## Inputs\n",
    "- An ordered list/sequence of numeric cumulative odometer readings (one value per day), e.g. `[55, 120, 200, ...]`.  \n",
    "- *(Optional)* Day labels or a start date to use as the Series index (e.g., `Day 1`, `Day 2` or actual dates).\n",
    "\n",
    "## Expected outputs\n",
    "- A **pandas Series** containing the cumulative miles (index = day or date).  \n",
    "- A **pandas Series or DataFrame** showing the **daily miles** computed as the difference between consecutive cumulative readings (first day's daily miles = first cumulative reading).  "
   ]
  },
  {
   "cell_type": "markdown",
   "id": "af39f39b",
   "metadata": {},
   "source": [
    "### Create Index List\n",
    "- We're going to use a loop that runs the length of the odometer in order to create a list to serve as an index for our panda series later."
   ]
  },
  {
   "cell_type": "code",
   "execution_count": null,
   "id": "0784b4b6",
   "metadata": {},
   "outputs": [
    {
     "name": "stdout",
     "output_type": "stream",
     "text": [
      "['Day 1', 'Day 2', 'Day 3', 'Day 4', 'Day 5']\n"
     ]
    }
   ],
   "source": [
    "import pandas as pd\n",
    "\n",
    "# Simulated Input in list form\n",
    "odometer = [55, 120, 175, 250, 300]\n",
    "\n",
    "def create_index(input):\n",
    "  index = []\n",
    "  for value in range(len(input)):\n",
    "    index.append(f\"Day {value+1}\")\n",
    "  return index\n",
    "\n",
    "index = create_index(odometer)\n",
    "print(index)\n"
   ]
  },
  {
   "cell_type": "markdown",
   "id": "90e3fb49",
   "metadata": {},
   "source": [
    "### Create a pandas Series\n",
    "- Now, we create a pandas Series object in order to store the total odemeter readings, using the recently created index list as the index."
   ]
  },
  {
   "cell_type": "code",
   "execution_count": 9,
   "id": "5450f686",
   "metadata": {},
   "outputs": [
    {
     "data": {
      "text/plain": [
       "Day 1     55\n",
       "Day 2    120\n",
       "Day 3    175\n",
       "Day 4    250\n",
       "Day 5    300\n",
       "Name: Totals, dtype: int64"
      ]
     },
     "execution_count": 9,
     "metadata": {},
     "output_type": "execute_result"
    }
   ],
   "source": [
    "totals = pd.Series(data = odometer, index = index, name = 'Totals')\n",
    "totals"
   ]
  },
  {
   "cell_type": "markdown",
   "id": "d9882c5d",
   "metadata": {},
   "source": [
    "### Display the Daily Totals\n",
    "- We can make use of a pandas built in `diff()` function to calculate daily totals by previous entry from the current one. \n",
    "\n",
    "  Ex. Day 2 would subtract 55 from 120. "
   ]
  },
  {
   "cell_type": "code",
   "execution_count": 12,
   "id": "a255224e",
   "metadata": {},
   "outputs": [
    {
     "data": {
      "text/plain": [
       "Day 1     NaN\n",
       "Day 2    65.0\n",
       "Day 3    55.0\n",
       "Day 4    75.0\n",
       "Day 5    50.0\n",
       "Name: Daily, dtype: float64"
      ]
     },
     "execution_count": 12,
     "metadata": {},
     "output_type": "execute_result"
    }
   ],
   "source": [
    "daily = totals.diff().rename('Daily')\n",
    "daily"
   ]
  },
  {
   "cell_type": "markdown",
   "id": "1ee25584",
   "metadata": {},
   "source": [
    "### Fix First Daily Value\n",
    "- Notice how `diff()` returns NaN (not a number) for the first value. This is because there is nothing to subtract from the first value of 55. Luckily, there is an easy way to rectify this. \n",
    "- We can use another handy pandas built in function, `fillna()`. This will replace NaN with any value we choose. In this case, we can use `iloc` to grab the first value in the totals pandas Series."
   ]
  },
  {
   "cell_type": "code",
   "execution_count": 11,
   "id": "729827fe",
   "metadata": {},
   "outputs": [
    {
     "data": {
      "text/plain": [
       "Day 1    55.0\n",
       "Day 2    65.0\n",
       "Day 3    55.0\n",
       "Day 4    75.0\n",
       "Day 5    50.0\n",
       "Name: Daily, dtype: float64"
      ]
     },
     "execution_count": 11,
     "metadata": {},
     "output_type": "execute_result"
    }
   ],
   "source": [
    "daily = totals.diff().fillna(value=totals.iloc[0]).rename('Daily')\n",
    "daily"
   ]
  },
  {
   "cell_type": "code",
   "execution_count": null,
   "id": "da1d7d4d",
   "metadata": {},
   "outputs": [],
   "source": []
  }
 ],
 "metadata": {
  "kernelspec": {
   "display_name": "Python 3",
   "language": "python",
   "name": "python3"
  },
  "language_info": {
   "codemirror_mode": {
    "name": "ipython",
    "version": 3
   },
   "file_extension": ".py",
   "mimetype": "text/x-python",
   "name": "python",
   "nbconvert_exporter": "python",
   "pygments_lexer": "ipython3",
   "version": "3.12.3"
  }
 },
 "nbformat": 4,
 "nbformat_minor": 5
}
