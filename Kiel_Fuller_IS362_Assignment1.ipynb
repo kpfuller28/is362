{
 "cells": [
  {
   "cell_type": "code",
   "execution_count": 12,
   "id": "9bcf1784-952f-469b-a42e-68e72330f3c1",
   "metadata": {},
   "outputs": [
    {
     "name": "stdout",
     "output_type": "stream",
     "text": [
      "1 2 3 4 can do python more\n"
     ]
    }
   ],
   "source": [
    "# Inputs\n",
    "one = 1\n",
    "two = 2\n",
    "three = 3\n",
    "four = 4\n",
    "can = 'can'\n",
    "do = 'do'\n",
    "python = 'python'\n",
    "more = 'more'\n",
    "\n",
    "print(f\"{one} {two} {three} {four} {can} {do} {python} {more}\")\n"
   ]
  },
  {
   "cell_type": "code",
   "execution_count": 13,
   "id": "b22ae095-5455-4edc-af9b-ef351c837de5",
   "metadata": {},
   "outputs": [
    {
     "name": "stdout",
     "output_type": "stream",
     "text": [
      "The result is 450\n"
     ]
    }
   ],
   "source": [
    "# Inputs\n",
    "number1 = 15\n",
    "number2 = 30\n",
    "\n",
    "# My Code\n",
    "result = number1 * number2\n",
    "print(f\"The result is {result}\")"
   ]
  },
  {
   "cell_type": "code",
   "execution_count": null,
   "id": "acf6c3c5-6917-4549-ba22-fdb867c76428",
   "metadata": {},
   "outputs": [
    {
     "name": "stdout",
     "output_type": "stream",
     "text": [
      "Given list: [10, 20, 30, 40, 10]\n",
      "result is True\n",
      "Given list: [75, 65, 35, 75, 30]\n",
      "result is False\n"
     ]
    }
   ],
   "source": [
    "# Inputs\n",
    "numbers_x = [10, 20, 30, 40, 10]\n",
    "numbers_y = [75, 65, 35, 75, 30]\n",
    "\n",
    "# My Code\n",
    "def first_last(given_list):\n",
    "    result = False\n",
    "    if given_list[0] == given_list[len(given_list)-1]:\n",
    "        result = True\n",
    "    print(f\"Given list: {given_list}\")\n",
    "    print(f\"result is {result}\")\n",
    "first_last(numbers_x)\n",
    "first_last(numbers_y)"
   ]
  },
  {
   "cell_type": "code",
   "execution_count": 15,
   "id": "bb1f7dd0-ab75-45e6-a853-ef6c0e98a4e2",
   "metadata": {},
   "outputs": [
    {
     "name": "stdout",
     "output_type": "stream",
     "text": [
      "Given list is [10, 20, 33, 46, 55]\n",
      "Divisible by 5\n",
      "10\n",
      "20\n",
      "55\n"
     ]
    }
   ],
   "source": [
    "numbers_z = [10, 20, 33, 46, 55]\n",
    "\n",
    "print(f\"Given list is {numbers_z}\")\n",
    "print(f\"Divisible by 5\")\n",
    "for num in numbers_z:\n",
    "    if num % 5 == 0:\n",
    "        print(num)"
   ]
  },
  {
   "cell_type": "code",
   "execution_count": null,
   "id": "d9b826e2-9a2a-4130-9e9f-50170e3afb8c",
   "metadata": {},
   "outputs": [
    {
     "name": "stdout",
     "output_type": "stream",
     "text": [
      "Anjali appeared 2 times\n"
     ]
    }
   ],
   "source": [
    "# Inputs\n",
    "str_x = \"Anjali is good developer. Anjali is a writer\"\n",
    "\n",
    "# My Code\n",
    "def word_counter(string, target):\n",
    "    counter = 0\n",
    "    for letter1 in range(len(string)):\n",
    "        for letter2 in range(len(string)+1):\n",
    "            if string[letter1:letter2] == target:\n",
    "                counter += 1\n",
    "    print(f\"{target} appeared {counter} times\")\n",
    "word_counter(str_x, \"Anjali\")\n"
   ]
  },
  {
   "cell_type": "code",
   "execution_count": null,
   "id": "0b17ed59-9499-4642-a08d-25c6ab456c0b",
   "metadata": {},
   "outputs": [
    {
     "name": "stdout",
     "output_type": "stream",
     "text": [
      " 1\n",
      " 2 2\n",
      " 3 3 3\n",
      " 4 4 4 4\n",
      " 5 5 5 5 5\n"
     ]
    }
   ],
   "source": [
    "def two_twos(number):\n",
    "    for x in range(1, number+1):\n",
    "        to_print = \"\"\n",
    "        for y in range(x):\n",
    "            to_print = to_print + f\" {x}\"\n",
    "        print(to_print)\n",
    "two_twos(5)\n"
   ]
  },
  {
   "cell_type": "code",
   "execution_count": 18,
   "id": "a1fc1806-e116-4be7-8305-7db681ff4162",
   "metadata": {},
   "outputs": [
    {
     "name": "stdout",
     "output_type": "stream",
     "text": [
      "1  2 3 4 5 6 7 8 9 10 \n",
      "2  4 6 8 10 12 14 16 18 20 \n",
      "3  6 9 12 15 18 21 24 27 30 \n",
      "4  8 12 16 20 24 28 32 36 40 \n",
      "5  10 15 20 25 30 35 40 45 50 \n",
      "6  12 18 24 30 36 42 48 54 60 \n",
      "7  14 21 28 35 42 49 56 63 70 \n",
      "8  16 24 32 40 48 56 64 72 80 \n",
      "9  18 27 36 45 54 63 72 81 90 \n",
      "10  20 30 40 50 60 70 80 90 100 \n"
     ]
    }
   ],
   "source": [
    "def time_tables(number):\n",
    "    for x in range(1, number+1):\n",
    "        to_print = f\"{x}  \"\n",
    "        for y in range(2,11):\n",
    "            to_print = to_print + f\"{x*y} \"\n",
    "\n",
    "        print(to_print)\n",
    "time_tables(10)"
   ]
  },
  {
   "cell_type": "code",
   "execution_count": 19,
   "id": "0b2b8841-780d-4ece-88df-f4b962924376",
   "metadata": {},
   "outputs": [
    {
     "name": "stdout",
     "output_type": "stream",
     "text": [
      "[ 117.5  -165.63  -47.9     2.83   45.03 -184.7 ]\n"
     ]
    }
   ],
   "source": [
    "import numpy as np\n",
    "# Inputs\n",
    "Temp_K = [390.65, 107.52, 225.25, 275.98, 318.18, 88.45]\n",
    "\n",
    "Kelvin_Array = np.array(Temp_K)\n",
    "\n",
    "Celsius_Array = []\n",
    "\n",
    "for temp in Kelvin_Array:\n",
    "    Celsius_Array = np.append(Celsius_Array, temp - 273.15)\n",
    "\n",
    "print(Celsius_Array)"
   ]
  },
  {
   "cell_type": "code",
   "execution_count": null,
   "id": "e1c9b71d-442e-474a-8060-5f30267e29e1",
   "metadata": {},
   "outputs": [
    {
     "name": "stdout",
     "output_type": "stream",
     "text": [
      "  Student Hair Color Eye Color  Weight(kg)\n",
      "0   Tommy      Brown     Hazel          60\n",
      "1    Fred       Grey     Green          80\n",
      "2    Gail     Blonde      Blue          76\n",
      "3    Kiel      Brown     Hazel          60\n",
      "4   Randy      Black     Hazel          88\n",
      "5   Ariel      Brown      Blue          85\n"
     ]
    }
   ],
   "source": [
    "import pandas as pd\n",
    "students = {\n",
    "    'Student': ['Tommy', 'Fred', 'Gail', 'Kiel', 'Randy', 'Ariel'],\n",
    "    'Hair Color': ['Brown', 'Grey', 'Blonde', 'Brown', 'Black', 'Brown'],\n",
    "    'Eye Color': ['Hazel', 'Green', 'Blue', 'Hazel', 'Hazel', 'Blue'],\n",
    "    'Weight(kg)': [60, 80, 76, 60, 88, 85]\n",
    "    }\n",
    "\n",
    "df = pd.DataFrame(students, index=range(len(students['Student'])))\n",
    "print(df)"
   ]
  },
  {
   "cell_type": "code",
   "execution_count": 21,
   "id": "3376762c-f760-4fac-94ab-f822bfee0260",
   "metadata": {},
   "outputs": [
    {
     "name": "stdout",
     "output_type": "stream",
     "text": [
      "0     Brown\n",
      "1      Grey\n",
      "2    Blonde\n",
      "3     Brown\n",
      "4     Black\n",
      "5     Brown\n",
      "Name: Hair Color, dtype: object\n"
     ]
    }
   ],
   "source": [
    "print(df['Hair Color'])"
   ]
  },
  {
   "cell_type": "code",
   "execution_count": 22,
   "id": "540f4ad1-7962-4719-862d-5d15cd6e8274",
   "metadata": {},
   "outputs": [
    {
     "name": "stdout",
     "output_type": "stream",
     "text": [
      "  Eye Color\n",
      "0     Hazel\n",
      "1     Green\n",
      "2      Blue\n",
      "3     Hazel\n",
      "4     Hazel\n",
      "5      Blue\n"
     ]
    }
   ],
   "source": [
    "print(df[['Eye Color']])"
   ]
  },
  {
   "cell_type": "code",
   "execution_count": 23,
   "id": "5370beb0-1077-48b5-9110-b27cdecdce97",
   "metadata": {},
   "outputs": [
    {
     "name": "stdout",
     "output_type": "stream",
     "text": [
      "  Student  Weight(kg)\n",
      "0   Tommy          60\n",
      "1    Fred          80\n",
      "2    Gail          76\n",
      "3    Kiel          60\n",
      "4   Randy          88\n",
      "5   Ariel          85\n"
     ]
    }
   ],
   "source": [
    "print(df[['Student', 'Weight(kg)']])"
   ]
  },
  {
   "cell_type": "code",
   "execution_count": 24,
   "id": "10fc2d00-a4cb-4e79-a6dd-422e2b9dc3e2",
   "metadata": {},
   "outputs": [
    {
     "name": "stdout",
     "output_type": "stream",
     "text": [
      "  Hair Color Eye Color  Weight(kg)\n",
      "0      Brown     Hazel          60\n",
      "1       Grey     Green          80\n",
      "2     Blonde      Blue          76\n",
      "3      Brown     Hazel          60\n",
      "4      Black     Hazel          88\n",
      "5      Brown      Blue          85\n"
     ]
    }
   ],
   "source": [
    "print(df.iloc[:, 1:4])"
   ]
  },
  {
   "cell_type": "code",
   "execution_count": null,
   "id": "511c4cda-a1ec-4fdc-a6e9-87e2364b0573",
   "metadata": {},
   "outputs": [],
   "source": []
  },
  {
   "cell_type": "code",
   "execution_count": null,
   "id": "4bc5a669-5c1e-4700-a0eb-0a3b8539a4b5",
   "metadata": {},
   "outputs": [],
   "source": []
  }
 ],
 "metadata": {
  "kernelspec": {
   "display_name": "Python (Pyodide)",
   "language": "python",
   "name": "python"
  },
  "language_info": {
   "codemirror_mode": {
    "name": "python",
    "version": 3
   },
   "file_extension": ".py",
   "mimetype": "text/x-python",
   "name": "python",
   "nbconvert_exporter": "python",
   "pygments_lexer": "ipython3",
   "version": "3.8"
  }
 },
 "nbformat": 4,
 "nbformat_minor": 5
}
