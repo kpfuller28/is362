{
 "cells": [
  {
   "cell_type": "markdown",
   "id": "a477dd25",
   "metadata": {},
   "source": [
    "# IS 362 – Week 5 Assignment: U.S. Airport Analysis with Python and Pandas\n",
    "\n",
    "This assignment focuses on applying Python and pandas to analyze real-world flight data from the [nycflights13 dataset](https://github.com/hadley/nycflights13/tree/master/data-raw). The main goal is to answer three specific questions:\n",
    "\n",
    "1. What is the northernmost airport in the United States?\n",
    "2. What is the easternmost airport in the United States?\n",
    "3. On February 12, 2013, which New York area airport experienced the windiest weather?\n",
    "\n",
    "To complete the assignment, I will use Python and pandas to process the dataset, research external sources to confirm findings, and clearly document both my code and assumptions. The final deliverable will include the analysis, supporting research, and verified answers for each question in a well-organized Jupyter notebook.\n"
   ]
  },
  {
   "cell_type": "markdown",
   "id": "ffa42752",
   "metadata": {},
   "source": [
    "## Downloading and processing the data\n"
   ]
  },
  {
   "cell_type": "code",
   "execution_count": 14,
   "id": "c4c40e8b",
   "metadata": {},
   "outputs": [
    {
     "name": "stdout",
     "output_type": "stream",
     "text": [
      "   faa                           name        lat        lon   alt  tz dst  \\\n",
      "0  04G              Lansdowne Airport  41.130472 -80.619583  1044  -5   A   \n",
      "1  06A  Moton Field Municipal Airport  32.460572 -85.680028   264  -6   A   \n",
      "2  06C            Schaumburg Regional  41.989341 -88.101243   801  -6   A   \n",
      "3  06N                Randall Airport  41.431912 -74.391561   523  -5   A   \n",
      "4  09J          Jekyll Island Airport  31.074472 -81.427778    11  -5   A   \n",
      "\n",
      "              tzone  \n",
      "0  America/New_York  \n",
      "1   America/Chicago  \n",
      "2   America/Chicago  \n",
      "3  America/New_York  \n",
      "4  America/New_York  \n",
      "  origin  year  month  day  hour   temp   dewp  humid  wind_dir  wind_speed  \\\n",
      "0    EWR  2013      1    1     1  39.02  26.06  59.37     270.0    10.35702   \n",
      "1    EWR  2013      1    1     2  39.02  26.96  61.63     250.0     8.05546   \n",
      "2    EWR  2013      1    1     3  39.02  28.04  64.43     240.0    11.50780   \n",
      "3    EWR  2013      1    1     4  39.92  28.04  62.21     250.0    12.65858   \n",
      "4    EWR  2013      1    1     5  39.02  28.04  64.43     260.0    12.65858   \n",
      "\n",
      "   wind_gust  precip  pressure  visib             time_hour  \n",
      "0        NaN     0.0    1012.0   10.0  2013-01-01T06:00:00Z  \n",
      "1        NaN     0.0    1012.3   10.0  2013-01-01T07:00:00Z  \n",
      "2        NaN     0.0    1012.5   10.0  2013-01-01T08:00:00Z  \n",
      "3        NaN     0.0    1012.2   10.0  2013-01-01T09:00:00Z  \n",
      "4        NaN     0.0    1011.9   10.0  2013-01-01T10:00:00Z  \n"
     ]
    }
   ],
   "source": [
    "import pandas as pd\n",
    "\n",
    "airports_df = pd.read_csv('airports.csv', header=0)\n",
    "weather_df = pd.read_csv('weather.csv', header=0)\n",
    "\n",
    "print(airports_df.head(5))\n",
    "print(weather_df.head(5))"
   ]
  },
  {
   "cell_type": "markdown",
   "id": "8db77d7f",
   "metadata": {},
   "source": [
    "The data looks well-organized and usable as is.\n",
    "\n",
    "## Finding the Northernmost and Easternmost Airports\n",
    "\n",
    "To identify these airports, we can use the built-in pandas function `nlargest()`.\n",
    "\n",
    "- **Northernmost airport:** We can sort the data by **latitude** in descending order to find the airport farthest north.\n",
    "- **Easternmost airport:** We can do a similar approach with **longitude**, since the easternmost airport will have the longitude **closest to 0**.\n",
    "\n",
    "### My Predictions\n",
    "\n",
    "I am not super familiar with too many airports, but I definitely would bet that the northernmost airport would be in Alaska somewhere, and the easternmost is probably in Maine.\n"
   ]
  },
  {
   "cell_type": "code",
   "execution_count": 15,
   "id": "b350f8ed",
   "metadata": {},
   "outputs": [
    {
     "name": "stdout",
     "output_type": "stream",
     "text": [
      "     faa                                        name        lat         lon  \\\n",
      "417  EEN                     Dillant Hopkins Airport  72.270833   42.898333   \n",
      "230  BRW                  Wiley Post Will Rogers Mem  71.285446 -156.766003   \n",
      "110  AIN                          Wainwright Airport  70.638056 -159.994722   \n",
      "708  K03                               Wainwright As  70.613378 -159.860350   \n",
      "152  ATK  Atqasuk Edward Burnell Sr Memorial Airport  70.467300 -157.436000   \n",
      "\n",
      "     alt  tz dst              tzone  \n",
      "417  149  -5   A                NaN  \n",
      "230   44  -9   A  America/Anchorage  \n",
      "110   41  -9   A  America/Anchorage  \n",
      "708   35  -9   A  America/Anchorage  \n",
      "152   96  -9   A  America/Anchorage  \n",
      "      faa                           name        lat         lon   alt  tz dst  \\\n",
      "1290  SYA                   Eareckson As  52.712275  174.113620    98  -9   A   \n",
      "942   MYF               Montgomery Field  32.475900  117.759000    17   8   A   \n",
      "396   DVT  Deer Valley Municipal Airport  33.411700  112.457000  1478   8   A   \n",
      "417   EEN        Dillant Hopkins Airport  72.270833   42.898333   149  -5   A   \n",
      "444   EPM     Eastport Municipal Airport  44.910111  -67.012694    45  -5   A   \n",
      "\n",
      "                  tzone  \n",
      "1290  America/Anchorage  \n",
      "942      Asia/Chongqing  \n",
      "396      Asia/Chongqing  \n",
      "417                 NaN  \n",
      "444    America/New_York  \n"
     ]
    }
   ],
   "source": [
    "northern = airports_df.nlargest(5, \"lat\")\n",
    "eastern = airports_df.nlargest(5, 'lon')\n",
    "print(northern)\n",
    "print(eastern)"
   ]
  },
  {
   "cell_type": "markdown",
   "id": "7b1ebd5a",
   "metadata": {},
   "source": [
    "## Examining the Top 5 Northernmost and Easternmost Airports\n",
    "\n",
    "Generating the top 5 northernmost and easternmost airports reveals a few hidden issues in the dataset.\n",
    "\n",
    "### Northernmost Airports\n",
    "\n",
    "First, it appears that the latitude and longitude for **Dillant Hopkins Airport** were entered incorrectly, possibly swapped. The actual coordinates are most likely around **42.8° N** and **-72.27° W**. After correcting for this, we can determine that **Wiley Post–Will Rogers Memorial Airport** in Alaska is the northernmost airport in the United States, which is confirmed by a quick Google search.\n",
    "\n",
    "### Easternmost Airports\n",
    "\n",
    "Some issues also appear in the top list of easternmost airports. Dillant Hopkins’ incorrect data shows up here as well. Additionally, if we simply take the largest longitude values, several airports appear with longitudes approaching **180°**, almost directly opposite Greenwich, England (0° longitude). Research shows that many of these locations are **U.S. military airports abroad**.\n",
    "\n",
    "If we want to include only domestic airports, we need a different approach. One solution is to use pandas’ native functions `nsmallest()`, `iloc()`, and `index` to find the **absolute value** of the longitude column, select the smallest 5 values, and use their indexes to retrieve the corresponding rows:\n"
   ]
  },
  {
   "cell_type": "code",
   "execution_count": 16,
   "id": "2c72750a",
   "metadata": {},
   "outputs": [
    {
     "name": "stdout",
     "output_type": "stream",
     "text": [
      "      faa                                 name        lat        lon  alt  tz  \\\n",
      "417   EEN              Dillant Hopkins Airport  72.270833  42.898333  149  -5   \n",
      "444   EPM           Eastport Municipal Airport  44.910111 -67.012694   45  -5   \n",
      "624   HUL                         Houlton Intl  46.123083 -67.792056  489  -5   \n",
      "259   CAR                         Caribou Muni  46.871500 -68.017917  626  -5   \n",
      "1101  PQI  Northern Maine Rgnl At Presque Isle  46.688958 -68.044797  534  -5   \n",
      "\n",
      "     dst             tzone  \n",
      "417    A               NaN  \n",
      "444    A  America/New_York  \n",
      "624    A  America/New_York  \n",
      "259    A  America/New_York  \n",
      "1101   A  America/New_York  \n"
     ]
    }
   ],
   "source": [
    "eastern = airports_df.loc[airports_df['lon'].abs().nsmallest(5).index]\n",
    "print(eastern)"
   ]
  },
  {
   "cell_type": "markdown",
   "id": "0b00f76f",
   "metadata": {},
   "source": [
    "We, once again, see **Dillant Hopkins'** incorrect values appearing in our list. We can safely ignore this entry and dtermine that **Eastport Municipal Airport** in Maine is the easternmost domestic airport in the US.\n"
   ]
  },
  {
   "cell_type": "markdown",
   "id": "cf927ca1",
   "metadata": {},
   "source": [
    "## Windiest Airport on 02/12/2013 in New York\n",
    "\n",
    "The dataset includes only New York area airports, so we do not need to filter by location.\n",
    "\n",
    "Rather than looking at individual hours, we can calculate the **average wind speed for each airport** on February 12, 2013. Using pandas’ `groupby()` function, we can group the data by the `origin` column, compute the mean of the `wind_speed` column, and then identify the **top airport with the highest average wind speed** for that day.\n"
   ]
  },
  {
   "cell_type": "code",
   "execution_count": 20,
   "id": "1f5df77c",
   "metadata": {},
   "outputs": [
    {
     "name": "stdout",
     "output_type": "stream",
     "text": [
      "origin\n",
      "EWR    56.38822\n",
      "LGA    14.96014\n",
      "JFK    14.38475\n",
      "Name: wind_speed, dtype: float64\n"
     ]
    }
   ],
   "source": [
    "day_filter = weather_df[(weather_df['year'] == 2013) & (weather_df['month'] == 2) & (weather_df['day'] == 12)]\n",
    "\n",
    "\n",
    "windiest_grouped = day_filter.groupby('origin')['wind_speed'].mean().sort_values(ascending=False)\n",
    "\n",
    "print(windiest_grouped)"
   ]
  },
  {
   "cell_type": "markdown",
   "id": "fddc1804",
   "metadata": {},
   "source": [
    "We can see that **Newark** experienced the windiest weather among the three New York area airports on February 12th, 2013.\n",
    "\n",
    "One thing to note is that using the **average** alone does not account for potential outliers or incorrectly entered data. To identify any unusual values, we can examine the **top 5 largest and smallest `wind_speed` rows** to check for exceptional entries.\n"
   ]
  },
  {
   "cell_type": "code",
   "execution_count": 21,
   "id": "eb2d19f9",
   "metadata": {},
   "outputs": [
    {
     "name": "stdout",
     "output_type": "stream",
     "text": [
      "      origin  year  month  day  hour   temp   dewp  humid  wind_dir  \\\n",
      "1009     EWR  2013      2   12     3  39.02  26.96  61.63     260.0   \n",
      "18417    LGA  2013      2   12     2  42.98  26.06  50.94     290.0   \n",
      "1018     EWR  2013      2   12    12  44.06  26.06  48.87     270.0   \n",
      "18428    LGA  2013      2   12    13  44.06  23.00  43.02     300.0   \n",
      "1008     EWR  2013      2   12     2  39.92  28.04  62.21     270.0   \n",
      "\n",
      "       wind_speed  wind_gust  precip  pressure  visib             time_hour  \n",
      "1009   1048.36058        NaN     0.0    1008.3   10.0  2013-02-12T08:00:00Z  \n",
      "18417    23.01560   31.07106     0.0    1007.1   10.0  2013-02-12T07:00:00Z  \n",
      "1018     21.86482   31.07106     0.0    1012.5   10.0  2013-02-12T17:00:00Z  \n",
      "18428    21.86482   25.31716     0.0    1011.7   10.0  2013-02-12T18:00:00Z  \n",
      "1008     20.71404   25.31716     0.0    1007.8   10.0  2013-02-12T07:00:00Z  \n",
      "      origin  year  month  day  hour   temp   dewp  humid  wind_dir  \\\n",
      "1029     EWR  2013      2   12    23  35.96  23.00  58.94     250.0   \n",
      "9709     JFK  2013      2   12     0  42.08  37.04  82.17     280.0   \n",
      "18415    LGA  2013      2   12     0  42.08  37.40  86.89       NaN   \n",
      "1027     EWR  2013      2   12    21  35.96  24.08  61.67     300.0   \n",
      "1006     EWR  2013      2   12     0  39.92  39.02  96.55     240.0   \n",
      "\n",
      "       wind_speed  wind_gust  precip  pressure  visib             time_hour  \n",
      "1029      4.60312        NaN     0.0    1013.7   10.0  2013-02-13T04:00:00Z  \n",
      "9709      4.60312        NaN     0.0    1007.1   10.0  2013-02-12T05:00:00Z  \n",
      "18415     4.60312        NaN     0.0       NaN   10.0  2013-02-12T05:00:00Z  \n",
      "1027      5.75390        NaN     0.0    1013.0   10.0  2013-02-13T02:00:00Z  \n",
      "1006      6.90468        NaN     0.0    1006.9   10.0  2013-02-12T05:00:00Z  \n"
     ]
    }
   ],
   "source": [
    "windiest = day_filter.nlargest(5, 'wind_speed')\n",
    "least_windy = day_filter.nsmallest(5, 'wind_speed')\n",
    "print(windiest)\n",
    "print(least_windy)"
   ]
  },
  {
   "cell_type": "markdown",
   "id": "9646cfba",
   "metadata": {},
   "source": [
    "We can see that there is one data point in **Newark** that is far too high and clearly an outlier. The next highest `wind_speed` is around 23, so we can create a **mask** to filter out values above, say, 30.\n",
    "\n",
    "Using this filtered data, we can then **recalculate the mean** to obtain a more accurate representation of the windiest airport overall.\n"
   ]
  },
  {
   "cell_type": "code",
   "execution_count": 22,
   "id": "186ece6b",
   "metadata": {},
   "outputs": [
    {
     "name": "stdout",
     "output_type": "stream",
     "text": [
      "origin\n",
      "LGA    14.960140\n",
      "JFK    14.384750\n",
      "EWR    13.258987\n",
      "Name: wind_speed, dtype: float64\n"
     ]
    }
   ],
   "source": [
    "mask = day_filter['wind_speed'] <= 50\n",
    "windiest_grouped = day_filter[mask].groupby('origin')['wind_speed'].mean().sort_values(ascending=False)\n",
    "\n",
    "print(windiest_grouped)"
   ]
  },
  {
   "cell_type": "markdown",
   "id": "ef78fe82",
   "metadata": {},
   "source": [
    "This give us a better read of values and that LaGuardia was the windiest airport on the relevant day.\n"
   ]
  }
 ],
 "metadata": {
  "kernelspec": {
   "display_name": "Python 3",
   "language": "python",
   "name": "python3"
  },
  "language_info": {
   "codemirror_mode": {
    "name": "ipython",
    "version": 3
   },
   "file_extension": ".py",
   "mimetype": "text/x-python",
   "name": "python",
   "nbconvert_exporter": "python",
   "pygments_lexer": "ipython3",
   "version": "3.12.3"
  }
 },
 "nbformat": 4,
 "nbformat_minor": 5
}
